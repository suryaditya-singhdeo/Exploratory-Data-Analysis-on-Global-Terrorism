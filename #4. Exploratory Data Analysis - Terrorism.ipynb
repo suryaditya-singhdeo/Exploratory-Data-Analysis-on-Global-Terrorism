{
 "cells": [
  {
   "cell_type": "code",
   "execution_count": 1,
   "metadata": {},
   "outputs": [],
   "source": [
    "# Importing the necessary libraries :\n",
    "    \n",
    "import pandas as pd\n",
    "import numpy as np\n",
    "import seaborn as sns\n",
    "import matplotlib.pyplot as plt\n",
    "%matplotlib inline"
   ]
  },
  {
   "cell_type": "code",
   "execution_count": 3,
   "metadata": {
    "scrolled": true
   },
   "outputs": [
    {
     "name": "stderr",
     "output_type": "stream",
     "text": [
      "C:\\Users\\Suryaditya\\Anaconda3\\lib\\site-packages\\IPython\\core\\interactiveshell.py:3049: DtypeWarning: Columns (4,6,31,33,61,62,63,76,79,90,92,94,96,114,115,121) have mixed types. Specify dtype option on import or set low_memory=False.\n",
      "  interactivity=interactivity, compiler=compiler, result=result)\n"
     ]
    },
    {
     "data": {
      "text/plain": [
       "(181691, 135)"
      ]
     },
     "execution_count": 3,
     "metadata": {},
     "output_type": "execute_result"
    }
   ],
   "source": [
    "df = pd.read_csv(r'C:\\Users\\Suryaditya\\Desktop\\AnalytixLabs\\TSF\\Global Terrorism\\globalterrorismdb_0718dist.csv', encoding='latin1')\n",
    "df.shape"
   ]
  },
  {
   "cell_type": "code",
   "execution_count": 4,
   "metadata": {},
   "outputs": [
    {
     "data": {
      "text/plain": [
       "array(['eventid', 'iyear', 'imonth', 'iday', 'approxdate', 'extended',\n",
       "       'resolution', 'country', 'country_txt', 'region', 'region_txt',\n",
       "       'provstate', 'city', 'latitude', 'longitude', 'specificity',\n",
       "       'vicinity', 'location', 'summary', 'crit1', 'crit2', 'crit3',\n",
       "       'doubtterr', 'alternative', 'alternative_txt', 'multiple',\n",
       "       'success', 'suicide', 'attacktype1', 'attacktype1_txt',\n",
       "       'attacktype2', 'attacktype2_txt', 'attacktype3', 'attacktype3_txt',\n",
       "       'targtype1', 'targtype1_txt', 'targsubtype1', 'targsubtype1_txt',\n",
       "       'corp1', 'target1', 'natlty1', 'natlty1_txt', 'targtype2',\n",
       "       'targtype2_txt', 'targsubtype2', 'targsubtype2_txt', 'corp2',\n",
       "       'target2', 'natlty2', 'natlty2_txt', 'targtype3', 'targtype3_txt',\n",
       "       'targsubtype3', 'targsubtype3_txt', 'corp3', 'target3', 'natlty3',\n",
       "       'natlty3_txt', 'gname', 'gsubname', 'gname2', 'gsubname2',\n",
       "       'gname3', 'gsubname3', 'motive', 'guncertain1', 'guncertain2',\n",
       "       'guncertain3', 'individual', 'nperps', 'nperpcap', 'claimed',\n",
       "       'claimmode', 'claimmode_txt', 'claim2', 'claimmode2',\n",
       "       'claimmode2_txt', 'claim3', 'claimmode3', 'claimmode3_txt',\n",
       "       'compclaim', 'weaptype1', 'weaptype1_txt', 'weapsubtype1',\n",
       "       'weapsubtype1_txt', 'weaptype2', 'weaptype2_txt', 'weapsubtype2',\n",
       "       'weapsubtype2_txt', 'weaptype3', 'weaptype3_txt', 'weapsubtype3',\n",
       "       'weapsubtype3_txt', 'weaptype4', 'weaptype4_txt', 'weapsubtype4',\n",
       "       'weapsubtype4_txt', 'weapdetail', 'nkill', 'nkillus', 'nkillter',\n",
       "       'nwound', 'nwoundus', 'nwoundte', 'property', 'propextent',\n",
       "       'propextent_txt', 'propvalue', 'propcomment', 'ishostkid',\n",
       "       'nhostkid', 'nhostkidus', 'nhours', 'ndays', 'divert',\n",
       "       'kidhijcountry', 'ransom', 'ransomamt', 'ransomamtus',\n",
       "       'ransompaid', 'ransompaidus', 'ransomnote', 'hostkidoutcome',\n",
       "       'hostkidoutcome_txt', 'nreleased', 'addnotes', 'scite1', 'scite2',\n",
       "       'scite3', 'dbsource', 'INT_LOG', 'INT_IDEO', 'INT_MISC', 'INT_ANY',\n",
       "       'related'], dtype=object)"
      ]
     },
     "execution_count": 4,
     "metadata": {},
     "output_type": "execute_result"
    }
   ],
   "source": [
    "df.columns.values "
   ]
  },
  {
   "cell_type": "code",
   "execution_count": 5,
   "metadata": {},
   "outputs": [
    {
     "data": {
      "text/plain": [
       "eventid                    0\n",
       "iyear                      0\n",
       "imonth                     0\n",
       "iday                       0\n",
       "approxdate            172452\n",
       "extended                   0\n",
       "resolution            179471\n",
       "country                    0\n",
       "country_txt                0\n",
       "region                     0\n",
       "region_txt                 0\n",
       "provstate                421\n",
       "city                     434\n",
       "latitude                4556\n",
       "longitude               4557\n",
       "specificity                6\n",
       "vicinity                   0\n",
       "location              126196\n",
       "summary                66129\n",
       "crit1                      0\n",
       "crit2                      0\n",
       "crit3                      0\n",
       "doubtterr                  1\n",
       "alternative           152680\n",
       "alternative_txt       152680\n",
       "multiple                   1\n",
       "success                    0\n",
       "suicide                    0\n",
       "attacktype1                0\n",
       "attacktype1_txt            0\n",
       "                       ...  \n",
       "propextent            117626\n",
       "propextent_txt        117626\n",
       "propvalue             142702\n",
       "propcomment           123732\n",
       "ishostkid                178\n",
       "nhostkid              168119\n",
       "nhostkidus            168174\n",
       "nhours                177628\n",
       "ndays                 173567\n",
       "divert                181367\n",
       "kidhijcountry         178386\n",
       "ransom                104310\n",
       "ransomamt             180341\n",
       "ransomamtus           181128\n",
       "ransompaid            180917\n",
       "ransompaidus          181139\n",
       "ransomnote            181177\n",
       "hostkidoutcome        170700\n",
       "hostkidoutcome_txt    170700\n",
       "nreleased             171291\n",
       "addnotes              153402\n",
       "scite1                 66191\n",
       "scite2                104758\n",
       "scite3                138175\n",
       "dbsource                   0\n",
       "INT_LOG                    0\n",
       "INT_IDEO                   0\n",
       "INT_MISC                   0\n",
       "INT_ANY                    0\n",
       "related               156653\n",
       "Length: 135, dtype: int64"
      ]
     },
     "execution_count": 5,
     "metadata": {},
     "output_type": "execute_result"
    }
   ],
   "source": [
    "df.isnull().sum()\n",
    "#certain columns have a lot of missing values."
   ]
  },
  {
   "cell_type": "markdown",
   "metadata": {},
   "source": [
    "#### Though the data has 135 columns, there are many columns which have more than 60% of data missing. We will remove these rows since they will not add much to our data exploration."
   ]
  },
  {
   "cell_type": "code",
   "execution_count": 6,
   "metadata": {},
   "outputs": [
    {
     "data": {
      "text/plain": [
       "(181691, 58)"
      ]
     },
     "execution_count": 6,
     "metadata": {},
     "output_type": "execute_result"
    }
   ],
   "source": [
    "df = df.replace(['',' ','NULL'], np.nan)  #replacing all missing values and NULL with NaN\n",
    "df = df.dropna(thresh=df.shape[0]*0.6, how='all', axis=1) # dropping all columns with Nan>60%\n",
    "df.shape"
   ]
  },
  {
   "cell_type": "markdown",
   "metadata": {},
   "source": [
    "#### So from 135 columns we now have 58."
   ]
  },
  {
   "cell_type": "code",
   "execution_count": 7,
   "metadata": {},
   "outputs": [],
   "source": [
    "# Upon further analysis we remove some more columns and rename them.\n",
    "df.rename(columns={'eventid':'Eventid', 'iyear':'Year', 'country_txt':'Country', 'region_txt':'Region', 'provstate': 'Provstate', \n",
    "                          'city':'City', 'crit1':'Crit1', 'crit2':'Crit2', 'crit3':'Crit3', 'success':'Success', 'suicide':'Suicide', \n",
    "                          'targtype1_txt':'Targtype', 'natlty1_txt':'Natlty1', 'natlty1_txt':'Natlty1', 'gname':'Gname', \n",
    "                          'guncertain1':'Guncertain1', 'claimed':'Claimed', 'weaptype1_txt':'Weaptype', 'nkill':'Nkill',\n",
    "                          'nwound':'Nwound', 'attacktype1_txt':'Attacktype'}, inplace=True)\n",
    "\n",
    "#Keep 20 columns\n",
    "df = df[['Eventid', 'Year','Country', 'Region', 'Provstate', 'City', 'Crit1', 'Crit2', 'Crit3', \n",
    "                  'Success', 'Suicide', 'Attacktype', 'Targtype', 'Natlty1','Gname', 'Guncertain1', \n",
    "                  'Claimed', 'Weaptype', 'Nkill','Nwound']]"
   ]
  },
  {
   "cell_type": "code",
   "execution_count": 8,
   "metadata": {},
   "outputs": [
    {
     "data": {
      "text/plain": [
       "array(['Eventid', 'Year', 'Country', 'Region', 'Provstate', 'City',\n",
       "       'Crit1', 'Crit2', 'Crit3', 'Success', 'Suicide', 'Attacktype',\n",
       "       'Targtype', 'Natlty1', 'Gname', 'Guncertain1', 'Claimed',\n",
       "       'Weaptype', 'Nkill', 'Nwound'], dtype=object)"
      ]
     },
     "execution_count": 8,
     "metadata": {},
     "output_type": "execute_result"
    }
   ],
   "source": [
    "df.columns.values  # final list of columns for our analysis."
   ]
  },
  {
   "cell_type": "code",
   "execution_count": 9,
   "metadata": {},
   "outputs": [],
   "source": [
    "# Add column Damage (Number of Dead/Injured people) by adding Nkill and Nwound :\n",
    "df['Damage']=df['Nkill']+df['Nwound']"
   ]
  },
  {
   "cell_type": "code",
   "execution_count": 10,
   "metadata": {},
   "outputs": [
    {
     "data": {
      "text/plain": [
       "Eventid            0\n",
       "Year               0\n",
       "Country            0\n",
       "Region             0\n",
       "Provstate        421\n",
       "City             434\n",
       "Crit1              0\n",
       "Crit2              0\n",
       "Crit3              0\n",
       "Success            0\n",
       "Suicide            0\n",
       "Attacktype         0\n",
       "Targtype           0\n",
       "Natlty1         1559\n",
       "Gname              0\n",
       "Guncertain1      380\n",
       "Claimed        66120\n",
       "Weaptype           0\n",
       "Nkill          10313\n",
       "Nwound         16311\n",
       "Damage         16874\n",
       "dtype: int64"
      ]
     },
     "execution_count": 10,
     "metadata": {},
     "output_type": "execute_result"
    }
   ],
   "source": [
    "df.isnull().sum()"
   ]
  },
  {
   "cell_type": "code",
   "execution_count": 11,
   "metadata": {},
   "outputs": [],
   "source": [
    "# Replacing the NaN values of numeric columns with zero :\n",
    "df[['Nkill','Nwound','Damage','Claimed','Guncertain1']] = df[['Nkill','Nwound','Damage','Claimed','Guncertain1']].fillna(0)"
   ]
  },
  {
   "cell_type": "code",
   "execution_count": 12,
   "metadata": {},
   "outputs": [
    {
     "data": {
      "text/html": [
       "<div>\n",
       "<style scoped>\n",
       "    .dataframe tbody tr th:only-of-type {\n",
       "        vertical-align: middle;\n",
       "    }\n",
       "\n",
       "    .dataframe tbody tr th {\n",
       "        vertical-align: top;\n",
       "    }\n",
       "\n",
       "    .dataframe thead th {\n",
       "        text-align: right;\n",
       "    }\n",
       "</style>\n",
       "<table border=\"1\" class=\"dataframe\">\n",
       "  <thead>\n",
       "    <tr style=\"text-align: right;\">\n",
       "      <th></th>\n",
       "      <th>Eventid</th>\n",
       "      <th>Year</th>\n",
       "      <th>Country</th>\n",
       "      <th>Region</th>\n",
       "      <th>Provstate</th>\n",
       "      <th>City</th>\n",
       "      <th>Crit1</th>\n",
       "      <th>Crit2</th>\n",
       "      <th>Crit3</th>\n",
       "      <th>Success</th>\n",
       "      <th>...</th>\n",
       "      <th>Attacktype</th>\n",
       "      <th>Targtype</th>\n",
       "      <th>Natlty1</th>\n",
       "      <th>Gname</th>\n",
       "      <th>Guncertain1</th>\n",
       "      <th>Claimed</th>\n",
       "      <th>Weaptype</th>\n",
       "      <th>Nkill</th>\n",
       "      <th>Nwound</th>\n",
       "      <th>Damage</th>\n",
       "    </tr>\n",
       "  </thead>\n",
       "  <tbody>\n",
       "    <tr>\n",
       "      <th>0</th>\n",
       "      <td>197000000001</td>\n",
       "      <td>1970</td>\n",
       "      <td>Dominican Republic</td>\n",
       "      <td>Central America &amp; Caribbean</td>\n",
       "      <td>NaN</td>\n",
       "      <td>Santo Domingo</td>\n",
       "      <td>1</td>\n",
       "      <td>1</td>\n",
       "      <td>1</td>\n",
       "      <td>1</td>\n",
       "      <td>...</td>\n",
       "      <td>Assassination</td>\n",
       "      <td>Private Citizens &amp; Property</td>\n",
       "      <td>Dominican Republic</td>\n",
       "      <td>MANO-D</td>\n",
       "      <td>0.0</td>\n",
       "      <td>0.0</td>\n",
       "      <td>Unknown</td>\n",
       "      <td>1.0</td>\n",
       "      <td>0.0</td>\n",
       "      <td>1.0</td>\n",
       "    </tr>\n",
       "    <tr>\n",
       "      <th>1</th>\n",
       "      <td>197000000002</td>\n",
       "      <td>1970</td>\n",
       "      <td>Mexico</td>\n",
       "      <td>North America</td>\n",
       "      <td>Federal</td>\n",
       "      <td>Mexico city</td>\n",
       "      <td>1</td>\n",
       "      <td>1</td>\n",
       "      <td>1</td>\n",
       "      <td>1</td>\n",
       "      <td>...</td>\n",
       "      <td>Hostage Taking (Kidnapping)</td>\n",
       "      <td>Government (Diplomatic)</td>\n",
       "      <td>Belgium</td>\n",
       "      <td>23rd of September Communist League</td>\n",
       "      <td>0.0</td>\n",
       "      <td>0.0</td>\n",
       "      <td>Unknown</td>\n",
       "      <td>0.0</td>\n",
       "      <td>0.0</td>\n",
       "      <td>0.0</td>\n",
       "    </tr>\n",
       "    <tr>\n",
       "      <th>2</th>\n",
       "      <td>197001000001</td>\n",
       "      <td>1970</td>\n",
       "      <td>Philippines</td>\n",
       "      <td>Southeast Asia</td>\n",
       "      <td>Tarlac</td>\n",
       "      <td>Unknown</td>\n",
       "      <td>1</td>\n",
       "      <td>1</td>\n",
       "      <td>1</td>\n",
       "      <td>1</td>\n",
       "      <td>...</td>\n",
       "      <td>Assassination</td>\n",
       "      <td>Journalists &amp; Media</td>\n",
       "      <td>United States</td>\n",
       "      <td>Unknown</td>\n",
       "      <td>0.0</td>\n",
       "      <td>0.0</td>\n",
       "      <td>Unknown</td>\n",
       "      <td>1.0</td>\n",
       "      <td>0.0</td>\n",
       "      <td>1.0</td>\n",
       "    </tr>\n",
       "    <tr>\n",
       "      <th>3</th>\n",
       "      <td>197001000002</td>\n",
       "      <td>1970</td>\n",
       "      <td>Greece</td>\n",
       "      <td>Western Europe</td>\n",
       "      <td>Attica</td>\n",
       "      <td>Athens</td>\n",
       "      <td>1</td>\n",
       "      <td>1</td>\n",
       "      <td>1</td>\n",
       "      <td>1</td>\n",
       "      <td>...</td>\n",
       "      <td>Bombing/Explosion</td>\n",
       "      <td>Government (Diplomatic)</td>\n",
       "      <td>United States</td>\n",
       "      <td>Unknown</td>\n",
       "      <td>0.0</td>\n",
       "      <td>0.0</td>\n",
       "      <td>Explosives</td>\n",
       "      <td>0.0</td>\n",
       "      <td>0.0</td>\n",
       "      <td>0.0</td>\n",
       "    </tr>\n",
       "    <tr>\n",
       "      <th>4</th>\n",
       "      <td>197001000003</td>\n",
       "      <td>1970</td>\n",
       "      <td>Japan</td>\n",
       "      <td>East Asia</td>\n",
       "      <td>Fukouka</td>\n",
       "      <td>Fukouka</td>\n",
       "      <td>1</td>\n",
       "      <td>1</td>\n",
       "      <td>1</td>\n",
       "      <td>1</td>\n",
       "      <td>...</td>\n",
       "      <td>Facility/Infrastructure Attack</td>\n",
       "      <td>Government (Diplomatic)</td>\n",
       "      <td>United States</td>\n",
       "      <td>Unknown</td>\n",
       "      <td>0.0</td>\n",
       "      <td>0.0</td>\n",
       "      <td>Incendiary</td>\n",
       "      <td>0.0</td>\n",
       "      <td>0.0</td>\n",
       "      <td>0.0</td>\n",
       "    </tr>\n",
       "  </tbody>\n",
       "</table>\n",
       "<p>5 rows × 21 columns</p>\n",
       "</div>"
      ],
      "text/plain": [
       "        Eventid  Year             Country                       Region  \\\n",
       "0  197000000001  1970  Dominican Republic  Central America & Caribbean   \n",
       "1  197000000002  1970              Mexico                North America   \n",
       "2  197001000001  1970         Philippines               Southeast Asia   \n",
       "3  197001000002  1970              Greece               Western Europe   \n",
       "4  197001000003  1970               Japan                    East Asia   \n",
       "\n",
       "  Provstate           City  Crit1  Crit2  Crit3  Success  ...  \\\n",
       "0       NaN  Santo Domingo      1      1      1        1  ...   \n",
       "1   Federal    Mexico city      1      1      1        1  ...   \n",
       "2    Tarlac        Unknown      1      1      1        1  ...   \n",
       "3    Attica         Athens      1      1      1        1  ...   \n",
       "4   Fukouka        Fukouka      1      1      1        1  ...   \n",
       "\n",
       "                       Attacktype                     Targtype  \\\n",
       "0                   Assassination  Private Citizens & Property   \n",
       "1     Hostage Taking (Kidnapping)      Government (Diplomatic)   \n",
       "2                   Assassination          Journalists & Media   \n",
       "3               Bombing/Explosion      Government (Diplomatic)   \n",
       "4  Facility/Infrastructure Attack      Government (Diplomatic)   \n",
       "\n",
       "              Natlty1                               Gname Guncertain1  \\\n",
       "0  Dominican Republic                              MANO-D         0.0   \n",
       "1             Belgium  23rd of September Communist League         0.0   \n",
       "2       United States                             Unknown         0.0   \n",
       "3       United States                             Unknown         0.0   \n",
       "4       United States                             Unknown         0.0   \n",
       "\n",
       "   Claimed    Weaptype Nkill  Nwound  Damage  \n",
       "0      0.0     Unknown   1.0     0.0     1.0  \n",
       "1      0.0     Unknown   0.0     0.0     0.0  \n",
       "2      0.0     Unknown   1.0     0.0     1.0  \n",
       "3      0.0  Explosives   0.0     0.0     0.0  \n",
       "4      0.0  Incendiary   0.0     0.0     0.0  \n",
       "\n",
       "[5 rows x 21 columns]"
      ]
     },
     "execution_count": 12,
     "metadata": {},
     "output_type": "execute_result"
    }
   ],
   "source": [
    "df.head()"
   ]
  },
  {
   "cell_type": "code",
   "execution_count": 13,
   "metadata": {},
   "outputs": [
    {
     "data": {
      "text/plain": [
       "Eventid          int64\n",
       "Year             int64\n",
       "Country         object\n",
       "Region          object\n",
       "Provstate       object\n",
       "City            object\n",
       "Crit1            int64\n",
       "Crit2            int64\n",
       "Crit3            int64\n",
       "Success          int64\n",
       "Suicide          int64\n",
       "Attacktype      object\n",
       "Targtype        object\n",
       "Natlty1         object\n",
       "Gname           object\n",
       "Guncertain1    float64\n",
       "Claimed        float64\n",
       "Weaptype        object\n",
       "Nkill          float64\n",
       "Nwound         float64\n",
       "Damage         float64\n",
       "dtype: object"
      ]
     },
     "execution_count": 13,
     "metadata": {},
     "output_type": "execute_result"
    }
   ],
   "source": [
    "df.dtypes"
   ]
  },
  {
   "cell_type": "code",
   "execution_count": 14,
   "metadata": {},
   "outputs": [
    {
     "data": {
      "text/plain": [
       "205"
      ]
     },
     "execution_count": 14,
     "metadata": {},
     "output_type": "execute_result"
    }
   ],
   "source": [
    "df.Country.nunique()\n",
    "# We have 205 countries mentioned here in the dataframe."
   ]
  },
  {
   "cell_type": "code",
   "execution_count": 15,
   "metadata": {},
   "outputs": [
    {
     "data": {
      "text/plain": [
       "Iraq                              24636\n",
       "Pakistan                          14368\n",
       "Afghanistan                       12731\n",
       "India                             11960\n",
       "Colombia                           8306\n",
       "Philippines                        6908\n",
       "Peru                               6096\n",
       "El Salvador                        5320\n",
       "United Kingdom                     5235\n",
       "Turkey                             4292\n",
       "Somalia                            4142\n",
       "Nigeria                            3907\n",
       "Thailand                           3849\n",
       "Yemen                              3347\n",
       "Spain                              3249\n",
       "Sri Lanka                          3022\n",
       "United States                      2836\n",
       "Algeria                            2743\n",
       "France                             2693\n",
       "Egypt                              2479\n",
       "Lebanon                            2478\n",
       "Chile                              2365\n",
       "Libya                              2249\n",
       "West Bank and Gaza Strip           2227\n",
       "Syria                              2201\n",
       "Russia                             2194\n",
       "Israel                             2183\n",
       "Guatemala                          2050\n",
       "South Africa                       2016\n",
       "Nicaragua                          1970\n",
       "                                  ...  \n",
       "Western Sahara                        5\n",
       "Montenegro                            5\n",
       "Malawi                                5\n",
       "Bahamas                               5\n",
       "Grenada                               5\n",
       "Comoros                               5\n",
       "Iceland                               4\n",
       "Solomon Islands                       4\n",
       "People's Republic of the Congo        4\n",
       "Dominica                              3\n",
       "Gambia                                3\n",
       "French Polynesia                      3\n",
       "Barbados                              3\n",
       "Vanuatu                               2\n",
       "Equatorial Guinea                     2\n",
       "Mauritius                             2\n",
       "St. Kitts and Nevis                   2\n",
       "South Yemen                           2\n",
       "Seychelles                            2\n",
       "Turkmenistan                          2\n",
       "St. Lucia                             1\n",
       "Falkland Islands                      1\n",
       "New Hebrides                          1\n",
       "North Korea                           1\n",
       "Andorra                               1\n",
       "Antigua and Barbuda                   1\n",
       "South Vietnam                         1\n",
       "Vatican City                          1\n",
       "Wallis and Futuna                     1\n",
       "International                         1\n",
       "Name: Country, Length: 205, dtype: int64"
      ]
     },
     "execution_count": 15,
     "metadata": {},
     "output_type": "execute_result"
    }
   ],
   "source": [
    "df.Country.value_counts()"
   ]
  },
  {
   "cell_type": "markdown",
   "metadata": {},
   "source": [
    "#### Top 15 Countries with maximum reported crimes are :\n",
    "##### Iraq>>Pakistan>>Afghanistan>>India>>Colombia>>\n",
    "##### Philippines>>Peru>>El Salvador>>United Kingdom>>Turkey>>\n",
    "##### Somalia>>Nigeria>>Thailand>>Yemen>>Spain"
   ]
  },
  {
   "cell_type": "code",
   "execution_count": 16,
   "metadata": {},
   "outputs": [
    {
     "name": "stdout",
     "output_type": "stream",
     "text": [
      "Country with the highest number of Terrorist Attacks: Iraq\n",
      "Region with the highest number of  Terrorist Attacks: Middle East & North Africa\n"
     ]
    }
   ],
   "source": [
    "# FYI :\n",
    "print('Country with the highest number of Terrorist Attacks:',df['Country'].value_counts().index[0])\n",
    "print('Region with the highest number of  Terrorist Attacks:',df['Region'].value_counts().index[0])"
   ]
  },
  {
   "cell_type": "markdown",
   "metadata": {},
   "source": [
    "#### Top 10 Countries with minimun reported crimes  from 2000 to 2017 are :"
   ]
  },
  {
   "cell_type": "code",
   "execution_count": 17,
   "metadata": {},
   "outputs": [
    {
     "data": {
      "text/html": [
       "<div>\n",
       "<style scoped>\n",
       "    .dataframe tbody tr th:only-of-type {\n",
       "        vertical-align: middle;\n",
       "    }\n",
       "\n",
       "    .dataframe tbody tr th {\n",
       "        vertical-align: top;\n",
       "    }\n",
       "\n",
       "    .dataframe thead th {\n",
       "        text-align: right;\n",
       "    }\n",
       "</style>\n",
       "<table border=\"1\" class=\"dataframe\">\n",
       "  <thead>\n",
       "    <tr style=\"text-align: right;\">\n",
       "      <th></th>\n",
       "      <th>Country</th>\n",
       "      <th>Damage</th>\n",
       "    </tr>\n",
       "  </thead>\n",
       "  <tbody>\n",
       "    <tr>\n",
       "      <th>9</th>\n",
       "      <td>Bahamas</td>\n",
       "      <td>0.0</td>\n",
       "    </tr>\n",
       "    <tr>\n",
       "      <th>14</th>\n",
       "      <td>Belize</td>\n",
       "      <td>0.0</td>\n",
       "    </tr>\n",
       "    <tr>\n",
       "      <th>34</th>\n",
       "      <td>Cyprus</td>\n",
       "      <td>0.0</td>\n",
       "    </tr>\n",
       "    <tr>\n",
       "      <th>64</th>\n",
       "      <td>Iceland</td>\n",
       "      <td>0.0</td>\n",
       "    </tr>\n",
       "    <tr>\n",
       "      <th>105</th>\n",
       "      <td>New Zealand</td>\n",
       "      <td>0.0</td>\n",
       "    </tr>\n",
       "    <tr>\n",
       "      <th>117</th>\n",
       "      <td>Portugal</td>\n",
       "      <td>0.0</td>\n",
       "    </tr>\n",
       "    <tr>\n",
       "      <th>129</th>\n",
       "      <td>Slovenia</td>\n",
       "      <td>0.0</td>\n",
       "    </tr>\n",
       "    <tr>\n",
       "      <th>139</th>\n",
       "      <td>Swaziland</td>\n",
       "      <td>0.0</td>\n",
       "    </tr>\n",
       "    <tr>\n",
       "      <th>147</th>\n",
       "      <td>Togo</td>\n",
       "      <td>0.0</td>\n",
       "    </tr>\n",
       "    <tr>\n",
       "      <th>160</th>\n",
       "      <td>Vietnam</td>\n",
       "      <td>0.0</td>\n",
       "    </tr>\n",
       "  </tbody>\n",
       "</table>\n",
       "</div>"
      ],
      "text/plain": [
       "         Country  Damage\n",
       "9        Bahamas     0.0\n",
       "14        Belize     0.0\n",
       "34        Cyprus     0.0\n",
       "64       Iceland     0.0\n",
       "105  New Zealand     0.0\n",
       "117     Portugal     0.0\n",
       "129     Slovenia     0.0\n",
       "139    Swaziland     0.0\n",
       "147         Togo     0.0\n",
       "160      Vietnam     0.0"
      ]
     },
     "execution_count": 17,
     "metadata": {},
     "output_type": "execute_result"
    }
   ],
   "source": [
    "country_damage = df[df['Year'] > 1999][[\"Country\", \"Damage\"]].groupby('Country',as_index=False).sum()\n",
    "country_damage[country_damage[\"Damage\"]==0]"
   ]
  },
  {
   "cell_type": "code",
   "execution_count": 18,
   "metadata": {},
   "outputs": [
    {
     "data": {
      "image/png": "[encoded data removed]",
      "text/plain": [
       "<Figure size 1080x360 with 1 Axes>"
      ]
     },
     "metadata": {
      "needs_background": "light"
     },
     "output_type": "display_data"
    }
   ],
   "source": [
    "df.groupby('Year')['Damage'].count().plot.bar()\n",
    "plt.gcf().set_size_inches(15, 5)\n",
    "plt.title('Yearly Deaths Reported')\n",
    "plt.xlabel('Year')\n",
    "plt.ylabel('Death Count')\n",
    "plt.show()"
   ]
  },
  {
   "cell_type": "markdown",
   "metadata": {},
   "source": [
    "#### This graph shows the number of dead/injured people by year from 1970 to 2017. The number of dead/injured people increases, specially from 2012 to 2015. The year 2015 had nearly 17000 reported deaths/injuries."
   ]
  },
  {
   "cell_type": "code",
   "execution_count": 19,
   "metadata": {},
   "outputs": [
    {
     "data": {
      "text/plain": [
       "Bombing/Explosion                      88255\n",
       "Armed Assault                          42669\n",
       "Assassination                          19312\n",
       "Hostage Taking (Kidnapping)            11158\n",
       "Facility/Infrastructure Attack         10356\n",
       "Unknown                                 7276\n",
       "Unarmed Assault                         1015\n",
       "Hostage Taking (Barricade Incident)      991\n",
       "Hijacking                                659\n",
       "Name: Attacktype, dtype: int64"
      ]
     },
     "execution_count": 19,
     "metadata": {},
     "output_type": "execute_result"
    }
   ],
   "source": [
    "df['Attacktype'].value_counts()"
   ]
  },
  {
   "cell_type": "code",
   "execution_count": 20,
   "metadata": {},
   "outputs": [],
   "source": [
    "df['Attacktype'] = df['Attacktype'].replace('Hostage Taking .*','Hostage Taking', regex=True)\n",
    "df['Attacktype'] = df['Attacktype'].replace('Hostage Taking .*','Hostage Taking', regex=True)\n",
    "attack_type = df['Attacktype'].apply(lambda x: x if x in ['Bombing/Explosion','Armed Assault','Assassination',\n",
    "                                                            'Hostage Taking',\n",
    "                                                            'Facility/Infrastructure Attack'] else 'Others')"
   ]
  },
  {
   "cell_type": "code",
   "execution_count": 21,
   "metadata": {},
   "outputs": [
    {
     "data": {
      "image/png": "[encoded data removed]",
      "text/plain": [
       "<Figure size 504x504 with 1 Axes>"
      ]
     },
     "metadata": {},
     "output_type": "display_data"
    }
   ],
   "source": [
    "attack_type.value_counts().plot.pie()\n",
    "plt.gcf().set_size_inches(7, 7)\n",
    "plt.title('Terrorist Attack Methods')\n",
    "plt.show()"
   ]
  },
  {
   "cell_type": "code",
   "execution_count": 22,
   "metadata": {},
   "outputs": [
    {
     "data": {
      "image/png": "[encoded data removed]",
      "text/plain": [
       "<Figure size 1080x360 with 1 Axes>"
      ]
     },
     "metadata": {
      "needs_background": "light"
     },
     "output_type": "display_data"
    }
   ],
   "source": [
    "df.groupby('Attacktype')['Damage'].count().plot.bar()\n",
    "plt.gcf().set_size_inches(15, 5)\n",
    "plt.title('Death Count per Attack Type')\n",
    "plt.xlabel('Attacke Type')\n",
    "plt.ylabel('Death Count')\n",
    "plt.show()"
   ]
  },
  {
   "cell_type": "markdown",
   "metadata": {},
   "source": [
    "#### From the above two graphs we see that Bombing/Explosion has been reported the most and has claimed the most lives."
   ]
  },
  {
   "cell_type": "code",
   "execution_count": 23,
   "metadata": {},
   "outputs": [],
   "source": [
    "weapontype =df['Weaptype'].apply(lambda x: x if x in ['Explosives','Firearms','Unknown','Incendiary'] \n",
    "                                   else 'Others')"
   ]
  },
  {
   "cell_type": "code",
   "execution_count": 24,
   "metadata": {},
   "outputs": [
    {
     "data": {
      "image/png": "[encoded data removed]",
      "text/plain": [
       "<Figure size 504x504 with 1 Axes>"
      ]
     },
     "metadata": {},
     "output_type": "display_data"
    }
   ],
   "source": [
    "weapontype.value_counts().plot.pie()\n",
    "plt.gcf().set_size_inches(7, 7)\n",
    "plt.title('Weapon Type Used')\n",
    "plt.show()"
   ]
  },
  {
   "cell_type": "markdown",
   "metadata": {},
   "source": [
    "#### Since Bombing/Explosion has been the most reported attack type, explosives are the most used weapon.\n",
    "#### Similarly since Armed Assault comes next, so is the use to firearms the second most used weapon type."
   ]
  },
  {
   "cell_type": "code",
   "execution_count": 25,
   "metadata": {},
   "outputs": [
    {
     "data": {
      "text/plain": [
       "Country\n",
       "Iraq                        2602\n",
       "Afghanistan                 1228\n",
       "Pakistan                     511\n",
       "Nigeria                      389\n",
       "Syria                        344\n",
       "Yemen                        220\n",
       "Somalia                      188\n",
       "Israel                       130\n",
       "Sri Lanka                    114\n",
       "Libya                        109\n",
       "Cameroon                      88\n",
       "Russia                        86\n",
       "Turkey                        76\n",
       "West Bank and Gaza Strip      66\n",
       "Lebanon                       65\n",
       "Egypt                         62\n",
       "India                         60\n",
       "Algeria                       33\n",
       "Mali                          32\n",
       "Saudi Arabia                  25\n",
       "dtype: int64"
      ]
     },
     "execution_count": 25,
     "metadata": {},
     "output_type": "execute_result"
    }
   ],
   "source": [
    "df1 = df[[\"Country\", \"Damage\"]].loc[(df['Suicide'] == 1)]\n",
    "df1.groupby([\"Country\"]).size().sort_values(ascending=False).head(20)\n",
    "\n",
    "# Top 20 countries with highest deaths due to suicide bombings."
   ]
  }
 ],
 "metadata": {
  "kernelspec": {
   "display_name": "Python 3",
   "language": "python",
   "name": "python3"
  },
  "language_info": {
   "codemirror_mode": {
    "name": "ipython",
    "version": 3
   },
   "file_extension": ".py",
   "mimetype": "text/x-python",
   "name": "python",
   "nbconvert_exporter": "python",
   "pygments_lexer": "ipython3",
   "version": "3.7.3"
  }
 },
 "nbformat": 4,
 "nbformat_minor": 2
}
